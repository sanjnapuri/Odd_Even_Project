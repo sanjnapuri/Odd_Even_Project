{
  "nbformat": 4,
  "nbformat_minor": 0,
  "metadata": {
    "colab": {
      "name": "Python Project - Odd or Even",
      "provenance": [],
      "authorship_tag": "ABX9TyNEozY4yqzHQvJnTCTcgpoZ",
      "include_colab_link": true
    },
    "kernelspec": {
      "name": "python3",
      "display_name": "Python 3"
    }
  },
  "cells": [
    {
      "cell_type": "markdown",
      "metadata": {
        "id": "view-in-github",
        "colab_type": "text"
      },
      "source": [
        "<a href=\"https://colab.research.google.com/github/sanjnapuri/Odd_Even_Project/blob/main/Python_Project_Odd_or_Even.ipynb\" target=\"_parent\"><img src=\"https://colab.research.google.com/assets/colab-badge.svg\" alt=\"Open In Colab\"/></a>"
      ]
    },
    {
      "cell_type": "code",
      "metadata": {
        "id": "ce98MYWsre0X"
      },
      "source": [
        "num = int(input('Enter a number: '))\n",
        "\n",
        "if num % 4 == 0:\n",
        "    print('The number you put in is a multiple of 4')\n",
        "\n",
        "elif num % 2 == 0:\n",
        "    print('The number you put in is an even')\n",
        "\n",
        "else:\n",
        "    print('The number you put in is an odd')\n",
        "\n",
        "num = int(input('Enter the first number: '))\n",
        "check = int(input('Enter the second number: '))\n",
        "\n",
        "if num % check == 0:\n",
        "    print(\"The first number can be divided evenly by the second number\")\n",
        "else:\n",
        "    print(\"The first number couldn't be divided evenly by the second number\")"
      ],
      "execution_count": null,
      "outputs": []
    }
  ]
}